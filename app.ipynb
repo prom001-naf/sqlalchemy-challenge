{
 "cells": [
  {
   "cell_type": "code",
   "execution_count": 1,
   "metadata": {},
   "outputs": [],
   "source": [
    "# Cell 1: Import Dependencies\n",
    "\n",
    "from flask import Flask, jsonify\n",
    "from sqlalchemy import create_engine, func\n",
    "from sqlalchemy.ext.automap import automap_base\n",
    "from sqlalchemy.orm import Session\n",
    "import numpy as np"
   ]
  },
  {
   "cell_type": "code",
   "execution_count": 3,
   "metadata": {},
   "outputs": [],
   "source": [
    "# Cell 2: Database Setup\n",
    "\n",
    "# Create engine to connect to the SQLite database\n",
    "database_path = \"hawaii.sqlite\"\n",
    "engine = create_engine(f\"sqlite:///D:/Promi/SurfsUp/Starter_Code/Resources/hawaii.sqlite\")\n",
    "\n",
    "# Reflect the database schema into classes\n",
    "Base = automap_base()\n",
    "Base.prepare(autoload_with=engine)\n",
    "\n",
    "# Save references to each table\n",
    "Measurement = Base.classes.measurement\n",
    "Station = Base.classes.station\n",
    "\n",
    "# Create a session to link Python to the database\n",
    "session = Session(engine)"
   ]
  },
  {
   "cell_type": "code",
   "execution_count": 4,
   "metadata": {},
   "outputs": [],
   "source": [
    "# Cell 3: Flask Setup\n",
    "\n",
    "# Create the Flask app\n",
    "app = Flask(__name__)"
   ]
  },
  {
   "cell_type": "code",
   "execution_count": 5,
   "metadata": {},
   "outputs": [],
   "source": [
    "# Cell 4: Flask Routes - Home Route\n",
    "\n",
    "@app.route(\"/\")\n",
    "def welcome():\n",
    "    \"\"\"List all available API routes.\"\"\"\n",
    "    return (\n",
    "        f\"Welcome to the Climate App API!<br/>\"\n",
    "        f\"Available Routes:<br/>\"\n",
    "        f\"/api/v1.0/precipitation<br/>\"\n",
    "        f\"/api/v1.0/stations<br/>\"\n",
    "        f\"/api/v1.0/tobs<br/>\"\n",
    "        f\"/api/v1.0/start<br/>\"\n",
    "        f\"/api/v1.0/start/end<br/>\"\n",
    "    )"
   ]
  },
  {
   "cell_type": "code",
   "execution_count": 6,
   "metadata": {},
   "outputs": [],
   "source": [
    "# Cell 5: Flask Routes - Precipitation Data\n",
    "\n",
    "@app.route(\"/api/v1.0/precipitation\")\n",
    "def precipitation():\n",
    "    \"\"\"Return a JSON list of precipitation data for the last year.\"\"\"\n",
    "    # Find the most recent date\n",
    "    recent_date = session.query(func.max(Measurement.date)).scalar()\n",
    "    one_year_ago = datetime.strptime(recent_date, '%Y-%m-%d') - timedelta(days=365)\n",
    "\n",
    "    # Query precipitation data\n",
    "    precipitation_data = session.query(Measurement.date, Measurement.prcp).filter(Measurement.date >= one_year_ago).all()\n",
    "\n",
    "    # Convert the query results to a dictionary\n",
    "    precipitation_dict = {date: prcp for date, prcp in precipitation_data}\n",
    "    return jsonify(precipitation_dict)"
   ]
  },
  {
   "cell_type": "code",
   "execution_count": 7,
   "metadata": {},
   "outputs": [],
   "source": [
    "# Cell 6: Flask Routes - Station Data\n",
    "\n",
    "@app.route(\"/api/v1.0/stations\")\n",
    "def stations():\n",
    "    \"\"\"Return a JSON list of stations.\"\"\"\n",
    "    # Query all stations\n",
    "    stations = session.query(Station.station).all()\n",
    "\n",
    "    # Unpack the data and jsonify\n",
    "    station_list = [station[0] for station in stations]\n",
    "    return jsonify(station_list)"
   ]
  },
  {
   "cell_type": "code",
   "execution_count": 8,
   "metadata": {},
   "outputs": [],
   "source": [
    "# Cell 7: Flask Routes - Temperature Observations (TOBS)\n",
    "\n",
    "@app.route(\"/api/v1.0/tobs\")\n",
    "def tobs():\n",
    "    \"\"\"Return a JSON list of temperature observations for the last year.\"\"\"\n",
    "    # Find the most recent date\n",
    "    recent_date = session.query(func.max(Measurement.date)).scalar()\n",
    "    one_year_ago = datetime.strptime(recent_date, '%Y-%m-%d') - timedelta(days=365)\n",
    "\n",
    "    # Query temperature observations for the last year\n",
    "    tobs_data = session.query(Measurement.date, Measurement.tobs).filter(Measurement.date >= one_year_ago).all()\n",
    "\n",
    "    # Return the results as a JSON\n",
    "    tobs_list = [{date: temp} for date, temp in tobs_data]\n",
    "    return jsonify(tobs_list)"
   ]
  },
  {
   "cell_type": "code",
   "execution_count": 9,
   "metadata": {},
   "outputs": [],
   "source": [
    "# Cell 8: Flask Routes - Start Date Route\n",
    "\n",
    "@app.route(\"/api/v1.0/<start>\")\n",
    "def start(start):\n",
    "    \"\"\"Return a JSON list of the min, avg, and max temperature for all dates >= start.\"\"\"\n",
    "    results = session.query(\n",
    "        func.min(Measurement.tobs),\n",
    "        func.avg(Measurement.tobs),\n",
    "        func.max(Measurement.tobs)\n",
    "    ).filter(Measurement.date >= start).all()\n",
    "\n",
    "    # Convert the results to a dictionary\n",
    "    temperature_stats = {\n",
    "        \"Start Date\": start,\n",
    "        \"TMIN\": results[0][0],\n",
    "        \"TAVG\": results[0][1],\n",
    "        \"TMAX\": results[0][2]\n",
    "    }\n",
    "    return jsonify(temperature_stats)"
   ]
  },
  {
   "cell_type": "code",
   "execution_count": 10,
   "metadata": {},
   "outputs": [],
   "source": [
    "# Cell 9: Flask Routes - Start/End Date Route\n",
    "\n",
    "@app.route(\"/api/v1.0/<start>/<end>\")\n",
    "def start_end(start, end):\n",
    "    \"\"\"Return a JSON list of the min, avg, and max temperature for a date range.\"\"\"\n",
    "    results = session.query(\n",
    "        func.min(Measurement.tobs),\n",
    "        func.avg(Measurement.tobs),\n",
    "        func.max(Measurement.tobs)\n",
    "    ).filter(Measurement.date >= start).filter(Measurement.date <= end).all()\n",
    "\n",
    "    # Convert the results to a dictionary\n",
    "    temperature_stats = {\n",
    "        \"Start Date\": start,\n",
    "        \"End Date\": end,\n",
    "        \"TMIN\": results[0][0],\n",
    "        \"TAVG\": results[0][1],\n",
    "        \"TMAX\": results[0][2]\n",
    "    }\n",
    "    return jsonify(temperature_stats)"
   ]
  },
  {
   "cell_type": "code",
   "execution_count": 11,
   "metadata": {},
   "outputs": [
    {
     "name": "stdout",
     "output_type": "stream",
     "text": [
      " * Serving Flask app '__main__'\n",
      " * Debug mode: on\n"
     ]
    },
    {
     "name": "stderr",
     "output_type": "stream",
     "text": [
      "WARNING: This is a development server. Do not use it in a production deployment. Use a production WSGI server instead.\n",
      " * Running on http://127.0.0.1:5000\n",
      "Press CTRL+C to quit\n",
      " * Restarting with watchdog (windowsapi)\n"
     ]
    },
    {
     "ename": "SystemExit",
     "evalue": "1",
     "output_type": "error",
     "traceback": [
      "An exception has occurred, use %tb to see the full traceback.\n",
      "\u001b[1;31mSystemExit\u001b[0m\u001b[1;31m:\u001b[0m 1\n"
     ]
    },
    {
     "name": "stderr",
     "output_type": "stream",
     "text": [
      "C:\\Users\\nafis\\AppData\\Roaming\\Python\\Python312\\site-packages\\IPython\\core\\interactiveshell.py:3585: UserWarning: To exit: use 'exit', 'quit', or Ctrl-D.\n",
      "  warn(\"To exit: use 'exit', 'quit', or Ctrl-D.\", stacklevel=1)\n"
     ]
    }
   ],
   "source": [
    "# Cell 10: Run the Flask App\n",
    "\n",
    "if __name__ == \"__main__\":\n",
    "    app.run(debug=True)"
   ]
  }
 ],
 "metadata": {
  "kernelspec": {
   "display_name": "base",
   "language": "python",
   "name": "python3"
  },
  "language_info": {
   "codemirror_mode": {
    "name": "ipython",
    "version": 3
   },
   "file_extension": ".py",
   "mimetype": "text/x-python",
   "name": "python",
   "nbconvert_exporter": "python",
   "pygments_lexer": "ipython3",
   "version": "3.12.7"
  }
 },
 "nbformat": 4,
 "nbformat_minor": 2
}
